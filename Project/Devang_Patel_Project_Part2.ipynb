{
 "cells": [
  {
   "cell_type": "code",
   "execution_count": 1,
   "metadata": {},
   "outputs": [],
   "source": [
    "#import\n",
    "import pandas as pd\n",
    "import numpy as np\n",
    "import seaborn as sns\n",
    "import sklearn\n",
    "import matplotlib\n",
    "import matplotlib.pyplot as plt\n",
    "from sklearn.model_selection import KFold\n",
    "from sklearn.ensemble import RandomForestClassifier\n",
    "from sklearn.neighbors import KNeighborsClassifier\n",
    "from sklearn.naive_bayes import GaussianNB"
   ]
  },
  {
   "cell_type": "code",
   "execution_count": 2,
   "metadata": {},
   "outputs": [],
   "source": [
    "df = pd.read_csv('heart_out.csv')"
   ]
  },
  {
   "cell_type": "code",
   "execution_count": 3,
   "metadata": {},
   "outputs": [
    {
     "output_type": "execute_result",
     "data": {
      "text/plain": "   Unnamed: 0  age  sex  trestbps  chol  fbs  thalach  exang  oldpeak  ca  \\\n0           0   63    1       145   233    1      150      0      2.3   0   \n1           1   37    1       130   250    0      187      0      3.5   0   \n2           2   41    0       130   204    0      172      0      1.4   0   \n3           3   56    1       120   236    0      178      0      0.8   0   \n4           4   57    0       120   354    0      163      1      0.6   0   \n\n   ...  restecg_0  restecg_1  restecg_2  slope_0  slope_1  slope_2  thal_0  \\\n0  ...          1          0          0        1        0        0       0   \n1  ...          0          1          0        1        0        0       0   \n2  ...          1          0          0        0        0        1       0   \n3  ...          0          1          0        0        0        1       0   \n4  ...          0          1          0        0        0        1       0   \n\n   thal_1  thal_2  thal_3  \n0       1       0       0  \n1       0       1       0  \n2       0       1       0  \n3       0       1       0  \n4       0       1       0  \n\n[5 rows x 25 columns]",
      "text/html": "<div>\n<style scoped>\n    .dataframe tbody tr th:only-of-type {\n        vertical-align: middle;\n    }\n\n    .dataframe tbody tr th {\n        vertical-align: top;\n    }\n\n    .dataframe thead th {\n        text-align: right;\n    }\n</style>\n<table border=\"1\" class=\"dataframe\">\n  <thead>\n    <tr style=\"text-align: right;\">\n      <th></th>\n      <th>Unnamed: 0</th>\n      <th>age</th>\n      <th>sex</th>\n      <th>trestbps</th>\n      <th>chol</th>\n      <th>fbs</th>\n      <th>thalach</th>\n      <th>exang</th>\n      <th>oldpeak</th>\n      <th>ca</th>\n      <th>...</th>\n      <th>restecg_0</th>\n      <th>restecg_1</th>\n      <th>restecg_2</th>\n      <th>slope_0</th>\n      <th>slope_1</th>\n      <th>slope_2</th>\n      <th>thal_0</th>\n      <th>thal_1</th>\n      <th>thal_2</th>\n      <th>thal_3</th>\n    </tr>\n  </thead>\n  <tbody>\n    <tr>\n      <td>0</td>\n      <td>0</td>\n      <td>63</td>\n      <td>1</td>\n      <td>145</td>\n      <td>233</td>\n      <td>1</td>\n      <td>150</td>\n      <td>0</td>\n      <td>2.3</td>\n      <td>0</td>\n      <td>...</td>\n      <td>1</td>\n      <td>0</td>\n      <td>0</td>\n      <td>1</td>\n      <td>0</td>\n      <td>0</td>\n      <td>0</td>\n      <td>1</td>\n      <td>0</td>\n      <td>0</td>\n    </tr>\n    <tr>\n      <td>1</td>\n      <td>1</td>\n      <td>37</td>\n      <td>1</td>\n      <td>130</td>\n      <td>250</td>\n      <td>0</td>\n      <td>187</td>\n      <td>0</td>\n      <td>3.5</td>\n      <td>0</td>\n      <td>...</td>\n      <td>0</td>\n      <td>1</td>\n      <td>0</td>\n      <td>1</td>\n      <td>0</td>\n      <td>0</td>\n      <td>0</td>\n      <td>0</td>\n      <td>1</td>\n      <td>0</td>\n    </tr>\n    <tr>\n      <td>2</td>\n      <td>2</td>\n      <td>41</td>\n      <td>0</td>\n      <td>130</td>\n      <td>204</td>\n      <td>0</td>\n      <td>172</td>\n      <td>0</td>\n      <td>1.4</td>\n      <td>0</td>\n      <td>...</td>\n      <td>1</td>\n      <td>0</td>\n      <td>0</td>\n      <td>0</td>\n      <td>0</td>\n      <td>1</td>\n      <td>0</td>\n      <td>0</td>\n      <td>1</td>\n      <td>0</td>\n    </tr>\n    <tr>\n      <td>3</td>\n      <td>3</td>\n      <td>56</td>\n      <td>1</td>\n      <td>120</td>\n      <td>236</td>\n      <td>0</td>\n      <td>178</td>\n      <td>0</td>\n      <td>0.8</td>\n      <td>0</td>\n      <td>...</td>\n      <td>0</td>\n      <td>1</td>\n      <td>0</td>\n      <td>0</td>\n      <td>0</td>\n      <td>1</td>\n      <td>0</td>\n      <td>0</td>\n      <td>1</td>\n      <td>0</td>\n    </tr>\n    <tr>\n      <td>4</td>\n      <td>4</td>\n      <td>57</td>\n      <td>0</td>\n      <td>120</td>\n      <td>354</td>\n      <td>0</td>\n      <td>163</td>\n      <td>1</td>\n      <td>0.6</td>\n      <td>0</td>\n      <td>...</td>\n      <td>0</td>\n      <td>1</td>\n      <td>0</td>\n      <td>0</td>\n      <td>0</td>\n      <td>1</td>\n      <td>0</td>\n      <td>0</td>\n      <td>1</td>\n      <td>0</td>\n    </tr>\n  </tbody>\n</table>\n<p>5 rows × 25 columns</p>\n</div>"
     },
     "metadata": {},
     "execution_count": 3
    }
   ],
   "source": [
    "df.head()"
   ]
  },
  {
   "cell_type": "code",
   "execution_count": 4,
   "metadata": {},
   "outputs": [
    {
     "output_type": "stream",
     "name": "stdout",
     "text": "0    1\n1    1\n2    1\n3    1\n4    1\nName: target, dtype: int64\n   Unnamed: 0  age  sex  trestbps  chol  fbs  thalach  exang  oldpeak  ca  \\\n0           0   63    1       145   233    1      150      0      2.3   0   \n1           1   37    1       130   250    0      187      0      3.5   0   \n2           2   41    0       130   204    0      172      0      1.4   0   \n3           3   56    1       120   236    0      178      0      0.8   0   \n4           4   57    0       120   354    0      163      1      0.6   0   \n\n   ...  restecg_0  restecg_1  restecg_2  slope_0  slope_1  slope_2  thal_0  \\\n0  ...          1          0          0        1        0        0       0   \n1  ...          0          1          0        1        0        0       0   \n2  ...          1          0          0        0        0        1       0   \n3  ...          0          1          0        0        0        1       0   \n4  ...          0          1          0        0        0        1       0   \n\n   thal_1  thal_2  thal_3  \n0       1       0       0  \n1       0       1       0  \n2       0       1       0  \n3       0       1       0  \n4       0       1       0  \n\n[5 rows x 24 columns]\n"
    }
   ],
   "source": [
    "X = df.drop(columns = ['target'])\n",
    "y = df['target']\n",
    "print(y.head())\n",
    "print(X.head())\n"
   ]
  },
  {
   "cell_type": "code",
   "execution_count": 86,
   "metadata": {},
   "outputs": [
    {
     "output_type": "stream",
     "name": "stdout",
     "text": "0.8316831683168316\n0.900990099009901\n0.8811881188118812\n"
    }
   ],
   "source": [
    "gnb = GaussianNB()\n",
    "kf = KFold(n_splits = 3, shuffle=True, random_state=22)\n",
    "for train, test in kf.split(X):\n",
    "    gnb.fit(X.iloc[train], y.iloc[train])\n",
    "    print(gnb.score(X.iloc[test], y.iloc[test]))"
   ]
  },
  {
   "cell_type": "code",
   "execution_count": 85,
   "metadata": {},
   "outputs": [
    {
     "output_type": "stream",
     "name": "stdout",
     "text": "0.7128712871287128\n0.900990099009901\n0.9702970297029703\n0.9900990099009901\n0.9900990099009901\n\n\n0.7524752475247525\n0.9108910891089109\n0.9603960396039604\n0.9702970297029703\n1.0\n\n\n0.801980198019802\n0.9504950495049505\n0.9801980198019802\n0.9900990099009901\n0.9801980198019802\n\n\n"
    }
   ],
   "source": [
    "forest_size = [1, 5, 10, 50, 100]\n",
    "kf = KFold(n_splits = 3, shuffle=True, random_state=22)\n",
    "for train, test in kf.split(X):\n",
    "    for count in forest_size:\n",
    "        rand_forest = RandomForestClassifier(criterion='gini', n_estimators=count, max_depth=3, random_state=0, n_jobs=-1)\n",
    "        rand_forest.fit(X.iloc[train], y.iloc[train])\n",
    "        print(rand_forest.score(X.iloc[test], y.iloc[test]))\n",
    "    print()\n",
    "    print()"
   ]
  },
  {
   "cell_type": "code",
   "execution_count": 92,
   "metadata": {},
   "outputs": [
    {
     "output_type": "stream",
     "name": "stdout",
     "text": "0.9702970297029703\n0.9801980198019802\n0.9900990099009901\n0.9900990099009901\n0.9900990099009901\n0.9801980198019802\n0.9801980198019802\n0.9702970297029703\n0.9801980198019802\n0.9702970297029703\n0.9801980198019802\n0.9702970297029703\n0.9801980198019802\n0.9900990099009901\n0.9900990099009901\n0.9900990099009901\n1.0\n1.0\n1.0\n\n\n0.9603960396039604\n0.9702970297029703\n0.9603960396039604\n0.9801980198019802\n0.9504950495049505\n0.9504950495049505\n0.9405940594059405\n0.9504950495049505\n0.9405940594059405\n0.9504950495049505\n0.9702970297029703\n0.9900990099009901\n0.9801980198019802\n1.0\n0.9900990099009901\n1.0\n0.9900990099009901\n0.9900990099009901\n0.9900990099009901\n\n\n0.9801980198019802\n0.9801980198019802\n1.0\n0.9801980198019802\n0.9801980198019802\n0.9801980198019802\n0.9801980198019802\n0.9801980198019802\n0.9801980198019802\n0.9801980198019802\n0.9801980198019802\n0.9801980198019802\n0.9801980198019802\n0.9801980198019802\n0.9801980198019802\n0.9801980198019802\n0.9801980198019802\n0.9801980198019802\n0.9900990099009901\n\n\n"
    }
   ],
   "source": [
    "\n",
    "kf = KFold(n_splits = 3, shuffle=True, random_state=22)\n",
    "for train, test in kf.split(X):\n",
    "    for knnCount in range(1,20):\n",
    "        knn = KNeighborsClassifier(n_neighbors = knnCount, p = 1, metric = 'minkowski') # manhattan dist here\n",
    "        knn.fit(X.iloc[train], y.iloc[train])\n",
    "        print(knn.score(X.iloc[test], y.iloc[test]))\n",
    "    print()\n",
    "    print()\n"
   ]
  }
 ],
 "metadata": {
  "language_info": {
   "codemirror_mode": {
    "name": "ipython",
    "version": 2
   },
   "file_extension": ".py",
   "mimetype": "text/x-python",
   "name": "python",
   "nbconvert_exporter": "python",
   "pygments_lexer": "ipython2",
   "version": "3.7.4-final"
  },
  "orig_nbformat": 2,
  "kernelspec": {
   "name": "python37464bitbaseconda01edcb9ffc324c9582e19d9be8c8b36c",
   "display_name": "Python 3.7.4 64-bit ('base': conda)"
  }
 },
 "nbformat": 4,
 "nbformat_minor": 2
}