{
 "cells": [
  {
   "cell_type": "code",
   "execution_count": null,
   "metadata": {},
   "outputs": [],
   "source": [
    "#import\n",
    "import pandas as pd\n",
    "import numpy as np\n",
    "import seaborn as sns\n",
    "import sklearn\n",
    "import matplotlib\n",
    "import matplotlib.pyplot as plt\n",
    "from sklearn.model_selection import KFold\n",
    "from sklearn.ensemble import RandomForestClassifier\n",
    "from sklearn.neighbors import KNeighborsClassifier\n",
    "from sklearn.naive_bayes import GaussianNB"
   ]
  },
  {
   "cell_type": "code",
   "execution_count": null,
   "metadata": {},
   "outputs": [],
   "source": [
    "df = pd.read_csv('heart_out.csv')"
   ]
  },
  {
   "cell_type": "code",
   "execution_count": null,
   "metadata": {},
   "outputs": [],
   "source": [
    "df.head()"
   ]
  },
  {
   "cell_type": "code",
   "execution_count": null,
   "metadata": {},
   "outputs": [],
   "source": [
    "X = df.drop(columns = ['target'])\n",
    "y = df['target']\n",
    "print(y.head())\n",
    "print(X.head())\n"
   ]
  },
  {
   "cell_type": "code",
   "execution_count": null,
   "metadata": {},
   "outputs": [],
   "source": [
    "gnb = GaussianNB()\n",
    "scores = []\n",
    "kf = KFold(n_splits = 3, shuffle=True, random_state=22)\n",
    "gnb_table = pd.DataFrame(columns = ['accuracy'], index = ['Fold 1', 'Fold 2', 'Fold 3'])\n",
    "for train, test in kf.split(X):\n",
    "    gnb.fit(X.iloc[train], y.iloc[train])\n",
    "    scores.append(gnb.score(X.iloc[test], y.iloc[test]))\n",
    "\n",
    "\n",
    "print(scores)\n",
    "gnb_table['accuracy'] = scores\n",
    "gnb_table"
   ]
  },
  {
   "cell_type": "code",
   "execution_count": null,
   "metadata": {},
   "outputs": [],
   "source": [
    "\n",
    "forest_size = [1, 5, 10, 50, 100]\n",
    "kf = KFold(n_splits = 3, shuffle=True, random_state=22)\n",
    "forest_table = pd.DataFrame(columns = forest_size)\n",
    "\n",
    "for train, test in kf.split(X):\n",
    "    socres = pd.DataFrame\n",
    "    for count in forest_size:\n",
    "        rand_forest = RandomForestClassifier(criterion='gini', n_estimators=count, max_depth=3, random_state=0, n_jobs=-1)\n",
    "        rand_forest.fit(X.iloc[train], y.iloc[train])\n",
    "        scores.append(rand_forest.score(X.iloc[test], y.iloc[test]))\n",
    "    forest_table.append(socres)\n",
    "        \n",
    "    # print()\n",
    "    # print()\n",
    "forest_table"
   ]
  },
  {
   "cell_type": "code",
   "execution_count": null,
   "metadata": {},
   "outputs": [],
   "source": [
    "\n",
    "kf = KFold(n_splits = 3, shuffle=True, random_state=22)\n",
    "for train, test in kf.split(X):\n",
    "    for knnCount in range(1,20):\n",
    "        knn = KNeighborsClassifier(n_neighbors = knnCount, p = 1, metric = 'minkowski') # manhattan dist here\n",
    "        knn.fit(X.iloc[train], y.iloc[train])\n",
    "        print(knn.score(X.iloc[test], y.iloc[test]))\n",
    "    print()\n",
    "    print()\n"
   ]
  }
 ],
 "metadata": {
  "language_info": {
   "codemirror_mode": {
    "name": "ipython",
    "version": 2
   },
   "file_extension": ".py",
   "mimetype": "text/x-python",
   "name": "python",
   "nbconvert_exporter": "python",
   "pygments_lexer": "ipython2",
   "version": "3.7.4-final"
  },
  "orig_nbformat": 2,
  "kernelspec": {
   "name": "python37464bitbaseconda01edcb9ffc324c9582e19d9be8c8b36c",
   "display_name": "Python 3.7.4 64-bit ('base': conda)"
  }
 },
 "nbformat": 4,
 "nbformat_minor": 2
}