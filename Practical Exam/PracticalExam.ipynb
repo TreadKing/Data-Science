{
 "cells": [
  {
   "cell_type": "markdown",
   "metadata": {},
   "source": [
    "# Practical Exam (CSC 4780/6780) -- April 25th, 2020 (10:00 AM- 5:00 PM)\n",
    "## Submit your answers to iCollege. Do not email. Multiple submissions are allowed.\n",
    "\n",
    "_This is an open book exam. During the exam, you are allowed to use course materials (notes, slides, sample codes, homework assignments) or external resources (such as library documentation or example code pieces). However, you must not get help from any individual, including your peers in this class._\n",
    "\n",
    "\n",
    "By submitting your answers, you certify that the answers is your own work, based on your personal study and research, and that you have not copied in part or whole or otherwise plagiarised the work of other students and/or persons. You also certify that you have read and understood the class policies and consequences of academic dishonesty as explained in the class website (https://grid.cs.gsu.edu/~baydin2/courses/csc4780/index.html and references/links therein)"
   ]
  },
  {
   "cell_type": "markdown",
   "metadata": {},
   "source": [
    "## Dataset and Background\n",
    "Food spectrographs are used in chemometrics to classify food types, a task that has obvious applications in food safety and quality assurance. You are given a time series dataset obtained after spectral analysis of fresh fruit purees [(Holland et al. 1999)](https://doi.org/10.1002/(SICI)1097-0010(199802)76:2%3C263::AID-JSFA943%3E3.0.CO;2-F). The classes are strawberry (authentic samples) and non-strawberry (adulterated strawberries and other fruits) [encoded as `S1` and `S2`]. The dataset contains 983 time series instances. Each timseries has a length of 235. Note here that time series are stored in the rows. The data can be read from `Strawberry_TS.csv` (therefore, place it in the same directory as this starter code). In this practical exam, you will explore this data and build predictive models. Note here that while the specifics and details of data is given for completeness, they are not relevant for the exam.\n",
    "\n",
    "The values of time series are represented in the cells corresponding to columns $\\{t0, t1, ... t234\\}$.\n",
    "The `index` is the identifier of the instances. The `Class` column shows the class of time series and is your target variable. \n"
   ]
  },
  {
   "cell_type": "code",
   "execution_count": 23,
   "metadata": {},
   "outputs": [
    {
     "output_type": "stream",
     "name": "stdout",
     "text": "<class 'pandas.core.frame.DataFrame'>\nIndex: 983 entries, ins0 to ins982\nColumns: 236 entries, Class to t234\ndtypes: float64(235), object(1)\nmemory usage: 1.8+ MB\n"
    },
    {
     "output_type": "execute_result",
     "data": {
      "text/plain": "     Class        t0        t1        t2        t3        t4        t5  \\\nins0    S2 -0.427551 -0.423887 -0.414360 -0.387491 -0.330333 -0.275372   \nins1    S2 -0.313815 -0.313110 -0.299480 -0.266110 -0.221460 -0.162945   \nins2    S1 -0.439104 -0.432493 -0.431269 -0.408253 -0.351938 -0.288032   \nins3    S2 -0.399509 -0.385600 -0.362244 -0.322354 -0.254122 -0.179591   \nins4    S2 -0.497904 -0.502622 -0.511010 -0.494234 -0.461208 -0.441287   \n\n            t6        t7        t8  ...      t225      t226      t227  \\\nins0 -0.248747 -0.253633 -0.279036  ... -0.966893 -0.991564 -1.009640   \nins1 -0.123230 -0.124875 -0.151665  ... -0.948080 -0.961945 -0.974400   \nins2 -0.255957 -0.261344 -0.278238  ... -0.991974 -1.007889 -1.020621   \nins3 -0.121331 -0.096137 -0.113458  ... -1.059527 -1.079210 -1.091019   \nins4 -0.453344 -0.489254 -0.522018  ... -0.927249 -0.947694 -0.971547   \n\n          t228      t229      t230      t231      t232      t233      t234  \nins0 -1.019899 -1.027960 -1.031868 -1.034066 -1.035776 -1.037486 -1.039440  \nins1 -0.984740 -0.989675 -0.994140 -0.994375 -0.994610 -0.998370 -0.998370  \nins2 -1.029191 -1.033353 -1.035802 -1.036291 -1.037026 -1.039964 -1.039964  \nins3 -1.097317 -1.102566 -1.105978 -1.111489 -1.115950 -1.115425 -1.115425  \nins4 -0.994089 -1.020300 -1.045463 -1.065908 -1.086615 -1.102342 -1.102342  \n\n[5 rows x 236 columns]",
      "text/html": "<div>\n<style scoped>\n    .dataframe tbody tr th:only-of-type {\n        vertical-align: middle;\n    }\n\n    .dataframe tbody tr th {\n        vertical-align: top;\n    }\n\n    .dataframe thead th {\n        text-align: right;\n    }\n</style>\n<table border=\"1\" class=\"dataframe\">\n  <thead>\n    <tr style=\"text-align: right;\">\n      <th></th>\n      <th>Class</th>\n      <th>t0</th>\n      <th>t1</th>\n      <th>t2</th>\n      <th>t3</th>\n      <th>t4</th>\n      <th>t5</th>\n      <th>t6</th>\n      <th>t7</th>\n      <th>t8</th>\n      <th>...</th>\n      <th>t225</th>\n      <th>t226</th>\n      <th>t227</th>\n      <th>t228</th>\n      <th>t229</th>\n      <th>t230</th>\n      <th>t231</th>\n      <th>t232</th>\n      <th>t233</th>\n      <th>t234</th>\n    </tr>\n  </thead>\n  <tbody>\n    <tr>\n      <td>ins0</td>\n      <td>S2</td>\n      <td>-0.427551</td>\n      <td>-0.423887</td>\n      <td>-0.414360</td>\n      <td>-0.387491</td>\n      <td>-0.330333</td>\n      <td>-0.275372</td>\n      <td>-0.248747</td>\n      <td>-0.253633</td>\n      <td>-0.279036</td>\n      <td>...</td>\n      <td>-0.966893</td>\n      <td>-0.991564</td>\n      <td>-1.009640</td>\n      <td>-1.019899</td>\n      <td>-1.027960</td>\n      <td>-1.031868</td>\n      <td>-1.034066</td>\n      <td>-1.035776</td>\n      <td>-1.037486</td>\n      <td>-1.039440</td>\n    </tr>\n    <tr>\n      <td>ins1</td>\n      <td>S2</td>\n      <td>-0.313815</td>\n      <td>-0.313110</td>\n      <td>-0.299480</td>\n      <td>-0.266110</td>\n      <td>-0.221460</td>\n      <td>-0.162945</td>\n      <td>-0.123230</td>\n      <td>-0.124875</td>\n      <td>-0.151665</td>\n      <td>...</td>\n      <td>-0.948080</td>\n      <td>-0.961945</td>\n      <td>-0.974400</td>\n      <td>-0.984740</td>\n      <td>-0.989675</td>\n      <td>-0.994140</td>\n      <td>-0.994375</td>\n      <td>-0.994610</td>\n      <td>-0.998370</td>\n      <td>-0.998370</td>\n    </tr>\n    <tr>\n      <td>ins2</td>\n      <td>S1</td>\n      <td>-0.439104</td>\n      <td>-0.432493</td>\n      <td>-0.431269</td>\n      <td>-0.408253</td>\n      <td>-0.351938</td>\n      <td>-0.288032</td>\n      <td>-0.255957</td>\n      <td>-0.261344</td>\n      <td>-0.278238</td>\n      <td>...</td>\n      <td>-0.991974</td>\n      <td>-1.007889</td>\n      <td>-1.020621</td>\n      <td>-1.029191</td>\n      <td>-1.033353</td>\n      <td>-1.035802</td>\n      <td>-1.036291</td>\n      <td>-1.037026</td>\n      <td>-1.039964</td>\n      <td>-1.039964</td>\n    </tr>\n    <tr>\n      <td>ins3</td>\n      <td>S2</td>\n      <td>-0.399509</td>\n      <td>-0.385600</td>\n      <td>-0.362244</td>\n      <td>-0.322354</td>\n      <td>-0.254122</td>\n      <td>-0.179591</td>\n      <td>-0.121331</td>\n      <td>-0.096137</td>\n      <td>-0.113458</td>\n      <td>...</td>\n      <td>-1.059527</td>\n      <td>-1.079210</td>\n      <td>-1.091019</td>\n      <td>-1.097317</td>\n      <td>-1.102566</td>\n      <td>-1.105978</td>\n      <td>-1.111489</td>\n      <td>-1.115950</td>\n      <td>-1.115425</td>\n      <td>-1.115425</td>\n    </tr>\n    <tr>\n      <td>ins4</td>\n      <td>S2</td>\n      <td>-0.497904</td>\n      <td>-0.502622</td>\n      <td>-0.511010</td>\n      <td>-0.494234</td>\n      <td>-0.461208</td>\n      <td>-0.441287</td>\n      <td>-0.453344</td>\n      <td>-0.489254</td>\n      <td>-0.522018</td>\n      <td>...</td>\n      <td>-0.927249</td>\n      <td>-0.947694</td>\n      <td>-0.971547</td>\n      <td>-0.994089</td>\n      <td>-1.020300</td>\n      <td>-1.045463</td>\n      <td>-1.065908</td>\n      <td>-1.086615</td>\n      <td>-1.102342</td>\n      <td>-1.102342</td>\n    </tr>\n  </tbody>\n</table>\n<p>5 rows × 236 columns</p>\n</div>"
     },
     "metadata": {},
     "execution_count": 23
    }
   ],
   "source": [
    "# run the below code to load time series dataset\n",
    "import pandas as pd\n",
    "import numpy as np\n",
    "import seaborn as sns\n",
    "\n",
    "ts_df = pd.read_csv('Strawberry_TS.csv', index_col=0)\n",
    "ts_df_c = ts_df.copy()\n",
    "\n",
    "# ts_df\n",
    "ts_df.info()\n",
    "ts_df.head()"
   ]
  },
  {
   "cell_type": "markdown",
   "metadata": {},
   "source": [
    "## Question 1 (15 points)\n",
    "Your first task is to create an analytics base table from the given time series dataset.\n",
    "The dataset will contain simple statistical features of time series. Those features are the following: \n",
    "- mean (column: mean)\n",
    "- standard deviation (column: std)\n",
    "- minimum (column: min)\n",
    "- 1st quartile (column: Q1)\n",
    "- median (column: median)\n",
    "- 3rd quartile (column: Q3)\n",
    "- maximum (column: max)\n",
    "- interquartile range (column: IQR)\n",
    "\n",
    "You will also need to fetch the target variable to `class` column.\n",
    "\n",
    "Below, a pandas DataFrame object (`abt`) is created for you (dimensions: __983 rows × 9 columns__) with proper index and column names. Feel free to use it. \n",
    "In the end, you will have 983 instances with eight descriptive features and a target variable."
   ]
  },
  {
   "cell_type": "code",
   "execution_count": 30,
   "metadata": {},
   "outputs": [
    {
     "output_type": "execute_result",
     "data": {
      "text/plain": "                mean  std       min        Q1    median        Q3       max  \\\nins0    3.225531e-10  1.0 -1.039440 -0.847324 -0.079959  0.181530  3.118721   \nins1    9.021287e-11  1.0 -1.347345 -0.824117 -0.098085  0.152777  3.232569   \nins2    8.476597e-10  1.0 -1.039964 -0.821069 -0.089460  0.176569  3.181970   \nins3    1.140000e-09  1.0 -1.115950 -0.827143 -0.131828  0.141495  3.193192   \nins4   -1.282553e-09  1.0 -1.102342 -0.819913  0.041268  0.251878  3.023882   \n...              ...  ...       ...       ...       ...       ...       ...   \nins978  9.374467e-10  1.0 -1.091861 -0.881657 -0.017108  0.275638  2.926790   \nins979  6.459576e-10  1.0 -1.078698 -0.886837 -0.029144  0.317924  2.805958   \nins980 -2.127752e-12  1.0 -1.132961 -0.852278 -0.011829  0.281521  3.062748   \nins981 -4.042554e-10  1.0 -1.755604 -0.875398  0.085089  0.540090  2.552728   \nins982 -6.791489e-10  1.0 -1.123463 -0.823158 -0.052269  0.233736  3.063333   \n\n             IQR class  \nins0    1.028854    S2  \nins1    0.976895    S2  \nins2    0.997638    S1  \nins3    0.968638    S2  \nins4    1.071791    S2  \n...          ...   ...  \nins978  1.157295    S2  \nins979  1.204761    S2  \nins980  1.133799    S2  \nins981  1.415488    S2  \nins982  1.056895    S1  \n\n[983 rows x 9 columns]",
      "text/html": "<div>\n<style scoped>\n    .dataframe tbody tr th:only-of-type {\n        vertical-align: middle;\n    }\n\n    .dataframe tbody tr th {\n        vertical-align: top;\n    }\n\n    .dataframe thead th {\n        text-align: right;\n    }\n</style>\n<table border=\"1\" class=\"dataframe\">\n  <thead>\n    <tr style=\"text-align: right;\">\n      <th></th>\n      <th>mean</th>\n      <th>std</th>\n      <th>min</th>\n      <th>Q1</th>\n      <th>median</th>\n      <th>Q3</th>\n      <th>max</th>\n      <th>IQR</th>\n      <th>class</th>\n    </tr>\n  </thead>\n  <tbody>\n    <tr>\n      <td>ins0</td>\n      <td>3.225531e-10</td>\n      <td>1.0</td>\n      <td>-1.039440</td>\n      <td>-0.847324</td>\n      <td>-0.079959</td>\n      <td>0.181530</td>\n      <td>3.118721</td>\n      <td>1.028854</td>\n      <td>S2</td>\n    </tr>\n    <tr>\n      <td>ins1</td>\n      <td>9.021287e-11</td>\n      <td>1.0</td>\n      <td>-1.347345</td>\n      <td>-0.824117</td>\n      <td>-0.098085</td>\n      <td>0.152777</td>\n      <td>3.232569</td>\n      <td>0.976895</td>\n      <td>S2</td>\n    </tr>\n    <tr>\n      <td>ins2</td>\n      <td>8.476597e-10</td>\n      <td>1.0</td>\n      <td>-1.039964</td>\n      <td>-0.821069</td>\n      <td>-0.089460</td>\n      <td>0.176569</td>\n      <td>3.181970</td>\n      <td>0.997638</td>\n      <td>S1</td>\n    </tr>\n    <tr>\n      <td>ins3</td>\n      <td>1.140000e-09</td>\n      <td>1.0</td>\n      <td>-1.115950</td>\n      <td>-0.827143</td>\n      <td>-0.131828</td>\n      <td>0.141495</td>\n      <td>3.193192</td>\n      <td>0.968638</td>\n      <td>S2</td>\n    </tr>\n    <tr>\n      <td>ins4</td>\n      <td>-1.282553e-09</td>\n      <td>1.0</td>\n      <td>-1.102342</td>\n      <td>-0.819913</td>\n      <td>0.041268</td>\n      <td>0.251878</td>\n      <td>3.023882</td>\n      <td>1.071791</td>\n      <td>S2</td>\n    </tr>\n    <tr>\n      <td>...</td>\n      <td>...</td>\n      <td>...</td>\n      <td>...</td>\n      <td>...</td>\n      <td>...</td>\n      <td>...</td>\n      <td>...</td>\n      <td>...</td>\n      <td>...</td>\n    </tr>\n    <tr>\n      <td>ins978</td>\n      <td>9.374467e-10</td>\n      <td>1.0</td>\n      <td>-1.091861</td>\n      <td>-0.881657</td>\n      <td>-0.017108</td>\n      <td>0.275638</td>\n      <td>2.926790</td>\n      <td>1.157295</td>\n      <td>S2</td>\n    </tr>\n    <tr>\n      <td>ins979</td>\n      <td>6.459576e-10</td>\n      <td>1.0</td>\n      <td>-1.078698</td>\n      <td>-0.886837</td>\n      <td>-0.029144</td>\n      <td>0.317924</td>\n      <td>2.805958</td>\n      <td>1.204761</td>\n      <td>S2</td>\n    </tr>\n    <tr>\n      <td>ins980</td>\n      <td>-2.127752e-12</td>\n      <td>1.0</td>\n      <td>-1.132961</td>\n      <td>-0.852278</td>\n      <td>-0.011829</td>\n      <td>0.281521</td>\n      <td>3.062748</td>\n      <td>1.133799</td>\n      <td>S2</td>\n    </tr>\n    <tr>\n      <td>ins981</td>\n      <td>-4.042554e-10</td>\n      <td>1.0</td>\n      <td>-1.755604</td>\n      <td>-0.875398</td>\n      <td>0.085089</td>\n      <td>0.540090</td>\n      <td>2.552728</td>\n      <td>1.415488</td>\n      <td>S2</td>\n    </tr>\n    <tr>\n      <td>ins982</td>\n      <td>-6.791489e-10</td>\n      <td>1.0</td>\n      <td>-1.123463</td>\n      <td>-0.823158</td>\n      <td>-0.052269</td>\n      <td>0.233736</td>\n      <td>3.063333</td>\n      <td>1.056895</td>\n      <td>S1</td>\n    </tr>\n  </tbody>\n</table>\n<p>983 rows × 9 columns</p>\n</div>"
     },
     "metadata": {},
     "execution_count": 30
    }
   ],
   "source": [
    "abt = pd.DataFrame(index = ts_df.index, columns = ['mean', 'std', 'min', 'Q1', 'median', 'Q3', 'max', 'IQR', 'class'])\n",
    "\n",
    "# your code for extracting features goes here!\n",
    "\n",
    "abt['mean'] = ts_df.mean(axis = 1)\n",
    "abt['min'] = ts_df.min(axis = 1)\n",
    "abt['median'] = ts_df.median(axis = 1)\n",
    "abt['class'] = ts_df.Class\n",
    "abt['max'] = ts_df.max(axis = 1)\n",
    "abt['Q1'] = ts_df.quantile(0.25, axis = 1)\n",
    "abt['Q3'] = ts_df.quantile(0.75, axis = 1)\n",
    "abt['IQR'] = abt['Q3'] - abt['Q1']\n",
    "abt['std'] = ts_df.std(axis = 1)\n",
    "abt"
   ]
  },
  {
   "cell_type": "markdown",
   "metadata": {},
   "source": [
    "<font color=red>**Next three questions will use the analytical base table (ABT) created in Question 1. For those who want to skip to Questions 2-4, they can load a sample ABT (`sampleABT.csv`).** </font>"
   ]
  },
  {
   "cell_type": "markdown",
   "metadata": {},
   "source": [
    "## Question 2 (30 points)\n",
    "\n",
    "Using the dataset (i.e., analytical base table) you created in **Question 1**, analyze and interpret the relationships between the descriptive features and target feature. In this question you are expected to create \n",
    "1. a bar plot demonstrating the distribution of the target variable (see `class` column in `abt`) (**5 points**)\n",
    "2. the correlation matrix of descriptive features (**5 points**)\n",
    "3. a scatter plot matrix for descriptive features and target feature (Hint: `sns.pairplot`, also use the `hue` for answering the question) (**5 points**)\n",
    "\n",
    "**Q2.1** After creating (1), answer the following questions:\n",
    "- Is this dataset balanced? What is the class imbalance ratio (i.e., the ratio between the number of instances in majority class and the number of instances in minority class?) (**3 points**)\n",
    "- If imbalanced, what can we do to balance the dataset? (**3 points**)\n",
    "\n",
    "**Q2.2** After creating (2), answer the following questions:\n",
    "- Among the pairs of descriptive features in correlation matrix, which two has the highest correlation? (**2 points**)\n",
    "- Among the pairs of descriptive features in correlation matrix, which two has the lowest (negative) correlation? (**2 points**)\n",
    "\n",
    "**Q2.3** After creating (3), answer the following questions:\n",
    "- Based on your scatter plot matrix, which features are less likely to be important for predicting the target variable and why? (**5 points**)"
   ]
  },
  {
   "cell_type": "code",
   "execution_count": 3,
   "metadata": {},
   "outputs": [],
   "source": [
    "# Feel free to use as many cells as needed. Do not leave empty cells."
   ]
  },
  {
   "cell_type": "code",
   "execution_count": 4,
   "metadata": {},
   "outputs": [],
   "source": [
    "#Q2.1 "
   ]
  },
  {
   "cell_type": "code",
   "execution_count": 5,
   "metadata": {},
   "outputs": [],
   "source": [
    "#Q2.2"
   ]
  },
  {
   "cell_type": "code",
   "execution_count": 6,
   "metadata": {},
   "outputs": [],
   "source": [
    "#Q2.3"
   ]
  },
  {
   "cell_type": "markdown",
   "metadata": {},
   "source": [
    "## Question 3 (20+5 points)\n",
    "\n",
    "Using the dataset (`abt`) you created in **Question 1**, create a logistic regression model. Your target feature is `class`, while your descriptive features are `['mean', 'std', 'min', 'Q1', 'median', 'Q3', 'max', 'IQR']`. (Hint: the model's class is imported in the preamble as \n",
    "\n",
    "`from sklearn.linear_model import LogisticRegression` \n",
    "\n",
    "and you can use the default model [without any input parameters]. Use 50% holdout sampling for evaluating this model.  (**8 pts**)\n",
    "\n",
    "After you train your logistic regression model, test the performance of your model using your test set. \n",
    "When evaluating the model, you are expected to report the confusion matrix (**3 pts**), overall classification error [misclassification rate] (**3 pts**), the precision of the class `S1` (**3 pts**) and the recall of the class `S2` (**3 pts**). \n",
    "\n",
    "**Bonus Question** Output the classification accuracy and F1-score. Compare the similarities and differences between these two measures. Explain the reasons behind these similarities or differences. (**5 pts**)"
   ]
  },
  {
   "cell_type": "code",
   "execution_count": 7,
   "metadata": {},
   "outputs": [],
   "source": [
    "from sklearn.model_selection import train_test_split\n",
    "from sklearn.linear_model import LogisticRegression # See: https://scikit-learn.org/stable/modules/generated/sklearn.linear_model.LogisticRegression.html\n",
    "from sklearn.metrics import confusion_matrix\n",
    "from sklearn.metrics import precision_score, recall_score\n",
    "\n",
    "# your answer goes here"
   ]
  },
  {
   "cell_type": "code",
   "execution_count": 8,
   "metadata": {},
   "outputs": [],
   "source": [
    "# your answer to bonus question goes here"
   ]
  },
  {
   "cell_type": "markdown",
   "metadata": {},
   "source": [
    "## Question 4 (35+5 points)\n",
    "\n",
    "In this part, you are expected to create a set of random forest models to understand the impact of the estimator count (i.e., number of weak learners) in these ensemble models. You will again be using the dataset (`abt`) created in **Question 1**. Similar to **Question 3**, the target feature is `class`, and you are expected to use all the descriptive features, i.e., `['mean', 'std', 'min', 'Q1', 'median', 'Q3', 'max', 'IQR']`. \n",
    "\n",
    "More specifically, the task here is to build random forest classifiers (`RandomForestClassifier` in scikit-learn) under six different parametric settings where number of estimators ($n$) is set to a number from `[1, 10, 50, 100, 500, 1000]`. This means that for every $n$ in the list, you need to repeat the experiment. Feel free to use the `cv_scores` given in the preamble.\n",
    "\n",
    "Each experiment will use an 8-fold cross validation evaluation schema. For each value of the $n$ parameter, report the mean and the standard deviation of classification accuracies. (Hint: `RandomForestClassifier` uses the parameter `n_estimators` for setting the number of estimators to be built.) (**35 points**)\n",
    "\n",
    "**Bonus Question** Demonstrate the distributions of classification accuracies for different $n$'s using a box plot. Which $n$ would you pick to train your deployment model as the number of estimators based on the box plots? (**5 pts**)"
   ]
  },
  {
   "cell_type": "code",
   "execution_count": 9,
   "metadata": {},
   "outputs": [],
   "source": [
    "from sklearn.model_selection import KFold\n",
    "from sklearn.ensemble import RandomForestClassifier\n",
    "\n",
    "cv_scores = pd.DataFrame(index=['fold1', 'fold2', 'fold3', 'fold4', 'fold5', 'fold6', 'fold7', 'fold8'], \n",
    "                      columns=[1, 10, 50, 100, 500, 1000]) # columns represent number of estimators\n",
    "\n",
    "# your answer goes here"
   ]
  },
  {
   "cell_type": "code",
   "execution_count": 10,
   "metadata": {},
   "outputs": [],
   "source": [
    "# answer to bonus question goes here"
   ]
  }
 ],
 "metadata": {
  "kernelspec": {
   "display_name": "Python 3",
   "language": "python",
   "name": "python3"
  },
  "language_info": {
   "codemirror_mode": {
    "name": "ipython",
    "version": 3
   },
   "file_extension": ".py",
   "mimetype": "text/x-python",
   "name": "python",
   "nbconvert_exporter": "python",
   "pygments_lexer": "ipython3",
   "version": "3.7.4-final"
  }
 },
 "nbformat": 4,
 "nbformat_minor": 4
}