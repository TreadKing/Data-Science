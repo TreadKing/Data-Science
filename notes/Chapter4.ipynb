{
 "cells": [
  {
   "cell_type": "code",
   "execution_count": 8,
   "metadata": {},
   "outputs": [],
   "source": [
    "import pandas as pd\n",
    "import numpy as np"
   ]
  },
  {
   "cell_type": "code",
   "execution_count": 9,
   "metadata": {},
   "outputs": [],
   "source": [
    "#Identifying the path and saving it as variable \n",
    "abt_path = './MotorInsuranceFraudClaimABTFull.csv'"
   ]
  },
  {
   "cell_type": "code",
   "execution_count": 46,
   "metadata": {},
   "outputs": [
    {
     "data": {
      "text/html": "<div>\n<style scoped>\n    .dataframe tbody tr th:only-of-type {\n        vertical-align: middle;\n    }\n\n    .dataframe tbody tr th {\n        vertical-align: top;\n    }\n\n    .dataframe thead th {\n        text-align: right;\n    }\n</style>\n<table border=\"1\" class=\"dataframe\">\n  <thead>\n    <tr style=\"text-align: right;\">\n      <th></th>\n      <th>ID</th>\n      <th>Insurance Type</th>\n      <th>Income of Policy Holder</th>\n      <th>Marital Status</th>\n      <th>Num Claimants</th>\n      <th>Injury Type</th>\n      <th>Overnight Hospital Stay</th>\n      <th>Claim Amount</th>\n      <th>Total Claimed</th>\n      <th>Num Claims</th>\n      <th>Num Soft Tissue</th>\n      <th>% Soft Tissue</th>\n      <th>Claim Amount Received</th>\n      <th>Fraud Flag</th>\n    </tr>\n  </thead>\n  <tbody>\n    <tr>\n      <td>0</td>\n      <td>1</td>\n      <td>CI</td>\n      <td>0</td>\n      <td>NaN</td>\n      <td>2</td>\n      <td>Soft Tissue</td>\n      <td>No</td>\n      <td>1625</td>\n      <td>3250</td>\n      <td>2</td>\n      <td>2.0</td>\n      <td>1.0</td>\n      <td>0</td>\n      <td>1</td>\n    </tr>\n    <tr>\n      <td>1</td>\n      <td>2</td>\n      <td>CI</td>\n      <td>0</td>\n      <td>NaN</td>\n      <td>2</td>\n      <td>Back</td>\n      <td>Yes</td>\n      <td>15028</td>\n      <td>60112</td>\n      <td>1</td>\n      <td>0.0</td>\n      <td>0.0</td>\n      <td>15028</td>\n      <td>0</td>\n    </tr>\n    <tr>\n      <td>2</td>\n      <td>3</td>\n      <td>CI</td>\n      <td>54613</td>\n      <td>Married</td>\n      <td>1</td>\n      <td>Broken Limb</td>\n      <td>No</td>\n      <td>-99999</td>\n      <td>0</td>\n      <td>0</td>\n      <td>0.0</td>\n      <td>0.0</td>\n      <td>572</td>\n      <td>0</td>\n    </tr>\n    <tr>\n      <td>3</td>\n      <td>4</td>\n      <td>CI</td>\n      <td>0</td>\n      <td>NaN</td>\n      <td>3</td>\n      <td>Serious</td>\n      <td>Yes</td>\n      <td>270200</td>\n      <td>0</td>\n      <td>0</td>\n      <td>0.0</td>\n      <td>0.0</td>\n      <td>270200</td>\n      <td>0</td>\n    </tr>\n    <tr>\n      <td>4</td>\n      <td>5</td>\n      <td>CI</td>\n      <td>0</td>\n      <td>NaN</td>\n      <td>4</td>\n      <td>Soft Tissue</td>\n      <td>No</td>\n      <td>8869</td>\n      <td>0</td>\n      <td>0</td>\n      <td>0.0</td>\n      <td>0.0</td>\n      <td>0</td>\n      <td>1</td>\n    </tr>\n  </tbody>\n</table>\n</div>",
      "text/plain": "   ID Insurance Type   Income of Policy Holder Marital Status  Num Claimants  \\\n0   1              CI                        0            NaN              2   \n1   2              CI                        0            NaN              2   \n2   3              CI                    54613        Married              1   \n3   4              CI                        0            NaN              3   \n4   5              CI                        0            NaN              4   \n\n   Injury Type Overnight Hospital Stay  Claim Amount  Total Claimed  \\\n0  Soft Tissue                      No          1625           3250   \n1         Back                     Yes         15028          60112   \n2  Broken Limb                      No        -99999              0   \n3      Serious                     Yes        270200              0   \n4  Soft Tissue                      No          8869              0   \n\n   Num Claims  Num Soft Tissue  % Soft Tissue  Claim Amount Received  \\\n0           2              2.0            1.0                      0   \n1           1              0.0            0.0                  15028   \n2           0              0.0            0.0                    572   \n3           0              0.0            0.0                 270200   \n4           0              0.0            0.0                      0   \n\n   Fraud Flag  \n0           1  \n1           0  \n2           0  \n3           0  \n4           1  "
     },
     "execution_count": 46,
     "metadata": {},
     "output_type": "execute_result"
    }
   ],
   "source": [
    "#reading the csv and loading it into a dataframe\n",
    "df = pd.read_csv(abt_path, sep = ',')\n",
    "df.head()"
   ]
  },
  {
   "cell_type": "code",
   "execution_count": 14,
   "metadata": {},
   "outputs": [
    {
     "data": {
      "text/plain": "0      Soft Tissue\n1             Back\n2      Broken Limb\n3          Serious\n4      Soft Tissue\n          ...     \n495    Soft Tissue\n496    Broken Limb\n497    Broken Limb\n498    Broken Limb\n499    Broken Limb\nName: Injury Type, Length: 500, dtype: object"
     },
     "execution_count": 14,
     "metadata": {},
     "output_type": "execute_result"
    }
   ],
   "source": [
    "#Retruns all values in the column 'Injury Type'\n",
    "df['Injury Type']"
   ]
  },
  {
   "cell_type": "code",
   "execution_count": 12,
   "metadata": {},
   "outputs": [
    {
     "name": "stdout",
     "output_type": "stream",
     "text": "<class 'pandas.core.frame.DataFrame'>\nRangeIndex: 500 entries, 0 to 499\nData columns (total 14 columns):\nID                         500 non-null int64\nInsurance Type             500 non-null object\nIncome of Policy Holder    500 non-null int64\nMarital Status             170 non-null object\nNum Claimants              500 non-null int64\nInjury Type                500 non-null object\nOvernight Hospital Stay    500 non-null object\nClaim Amount               500 non-null int64\nTotal Claimed              500 non-null int64\nNum Claims                 500 non-null int64\nNum Soft Tissue            490 non-null float64\n% Soft Tissue              500 non-null float64\nClaim Amount Received      500 non-null int64\nFraud Flag                 500 non-null int64\ndtypes: float64(2), int64(8), object(4)\nmemory usage: 54.8+ KB\n"
    }
   ],
   "source": [
    "#Returns all the data types on all of the column\n",
    "df.info()"
   ]
  },
  {
   "cell_type": "code",
   "execution_count": 15,
   "metadata": {},
   "outputs": [
    {
     "data": {
      "text/html": "<div>\n<style scoped>\n    .dataframe tbody tr th:only-of-type {\n        vertical-align: middle;\n    }\n\n    .dataframe tbody tr th {\n        vertical-align: top;\n    }\n\n    .dataframe thead th {\n        text-align: right;\n    }\n</style>\n<table border=\"1\" class=\"dataframe\">\n  <thead>\n    <tr style=\"text-align: right;\">\n      <th></th>\n      <th>Injury Type</th>\n      <th>Fraud Flag</th>\n    </tr>\n  </thead>\n  <tbody>\n    <tr>\n      <td>0</td>\n      <td>Soft Tissue</td>\n      <td>1</td>\n    </tr>\n    <tr>\n      <td>1</td>\n      <td>Back</td>\n      <td>0</td>\n    </tr>\n    <tr>\n      <td>2</td>\n      <td>Broken Limb</td>\n      <td>0</td>\n    </tr>\n    <tr>\n      <td>3</td>\n      <td>Serious</td>\n      <td>0</td>\n    </tr>\n    <tr>\n      <td>4</td>\n      <td>Soft Tissue</td>\n      <td>1</td>\n    </tr>\n    <tr>\n      <td>...</td>\n      <td>...</td>\n      <td>...</td>\n    </tr>\n    <tr>\n      <td>495</td>\n      <td>Soft Tissue</td>\n      <td>1</td>\n    </tr>\n    <tr>\n      <td>496</td>\n      <td>Broken Limb</td>\n      <td>1</td>\n    </tr>\n    <tr>\n      <td>497</td>\n      <td>Broken Limb</td>\n      <td>0</td>\n    </tr>\n    <tr>\n      <td>498</td>\n      <td>Broken Limb</td>\n      <td>0</td>\n    </tr>\n    <tr>\n      <td>499</td>\n      <td>Broken Limb</td>\n      <td>1</td>\n    </tr>\n  </tbody>\n</table>\n<p>500 rows × 2 columns</p>\n</div>",
      "text/plain": "     Injury Type  Fraud Flag\n0    Soft Tissue           1\n1           Back           0\n2    Broken Limb           0\n3        Serious           0\n4    Soft Tissue           1\n..           ...         ...\n495  Soft Tissue           1\n496  Broken Limb           1\n497  Broken Limb           0\n498  Broken Limb           0\n499  Broken Limb           1\n\n[500 rows x 2 columns]"
     },
     "execution_count": 15,
     "metadata": {},
     "output_type": "execute_result"
    }
   ],
   "source": [
    "#Returns the columns 'Injury Type' and 'Fraud Flag'\n",
    "df[['Injury Type', 'Fraud Flag']]"
   ]
  },
  {
   "cell_type": "markdown",
   "metadata": {},
   "source": [
    "Returns all "
   ]
  },
  {
   "cell_type": "markdown",
   "metadata": {},
   "source": []
  },
  {
   "cell_type": "code",
   "execution_count": 17,
   "metadata": {},
   "outputs": [
    {
     "data": {
      "text/html": "<div>\n<style scoped>\n    .dataframe tbody tr th:only-of-type {\n        vertical-align: middle;\n    }\n\n    .dataframe tbody tr th {\n        vertical-align: top;\n    }\n\n    .dataframe thead th {\n        text-align: right;\n    }\n</style>\n<table border=\"1\" class=\"dataframe\">\n  <thead>\n    <tr style=\"text-align: right;\">\n      <th></th>\n      <th>ID</th>\n      <th>Insurance Type</th>\n      <th>Income of Policy Holder</th>\n      <th>Marital Status</th>\n      <th>Num Claimants</th>\n      <th>Injury Type</th>\n      <th>Overnight Hospital Stay</th>\n      <th>Claim Amount</th>\n      <th>Total Claimed</th>\n      <th>Num Claims</th>\n      <th>Num Soft Tissue</th>\n      <th>% Soft Tissue</th>\n      <th>Claim Amount Received</th>\n      <th>Fraud Flag</th>\n    </tr>\n  </thead>\n  <tbody>\n    <tr>\n      <td>0</td>\n      <td>1</td>\n      <td>CI</td>\n      <td>0</td>\n      <td>NaN</td>\n      <td>2</td>\n      <td>Soft Tissue</td>\n      <td>No</td>\n      <td>1625</td>\n      <td>3250</td>\n      <td>2</td>\n      <td>2.0</td>\n      <td>1.0</td>\n      <td>0</td>\n      <td>1</td>\n    </tr>\n    <tr>\n      <td>1</td>\n      <td>2</td>\n      <td>CI</td>\n      <td>0</td>\n      <td>NaN</td>\n      <td>2</td>\n      <td>Back</td>\n      <td>Yes</td>\n      <td>15028</td>\n      <td>60112</td>\n      <td>1</td>\n      <td>0.0</td>\n      <td>0.0</td>\n      <td>15028</td>\n      <td>0</td>\n    </tr>\n    <tr>\n      <td>2</td>\n      <td>3</td>\n      <td>CI</td>\n      <td>54613</td>\n      <td>Married</td>\n      <td>1</td>\n      <td>Broken Limb</td>\n      <td>No</td>\n      <td>-99999</td>\n      <td>0</td>\n      <td>0</td>\n      <td>0.0</td>\n      <td>0.0</td>\n      <td>572</td>\n      <td>0</td>\n    </tr>\n    <tr>\n      <td>3</td>\n      <td>4</td>\n      <td>CI</td>\n      <td>0</td>\n      <td>NaN</td>\n      <td>3</td>\n      <td>Serious</td>\n      <td>Yes</td>\n      <td>270200</td>\n      <td>0</td>\n      <td>0</td>\n      <td>0.0</td>\n      <td>0.0</td>\n      <td>270200</td>\n      <td>0</td>\n    </tr>\n    <tr>\n      <td>4</td>\n      <td>5</td>\n      <td>CI</td>\n      <td>0</td>\n      <td>NaN</td>\n      <td>4</td>\n      <td>Soft Tissue</td>\n      <td>No</td>\n      <td>8869</td>\n      <td>0</td>\n      <td>0</td>\n      <td>0.0</td>\n      <td>0.0</td>\n      <td>0</td>\n      <td>1</td>\n    </tr>\n    <tr>\n      <td>5</td>\n      <td>6</td>\n      <td>CI</td>\n      <td>0</td>\n      <td>NaN</td>\n      <td>1</td>\n      <td>Broken Limb</td>\n      <td>Yes</td>\n      <td>17480</td>\n      <td>0</td>\n      <td>0</td>\n      <td>0.0</td>\n      <td>0.0</td>\n      <td>17480</td>\n      <td>0</td>\n    </tr>\n    <tr>\n      <td>6</td>\n      <td>7</td>\n      <td>CI</td>\n      <td>52567</td>\n      <td>Single</td>\n      <td>3</td>\n      <td>Broken Limb</td>\n      <td>No</td>\n      <td>3017</td>\n      <td>18102</td>\n      <td>2</td>\n      <td>1.0</td>\n      <td>0.5</td>\n      <td>0</td>\n      <td>1</td>\n    </tr>\n    <tr>\n      <td>7</td>\n      <td>8</td>\n      <td>CI</td>\n      <td>0</td>\n      <td>NaN</td>\n      <td>2</td>\n      <td>Back</td>\n      <td>Yes</td>\n      <td>7463</td>\n      <td>0</td>\n      <td>0</td>\n      <td>0.0</td>\n      <td>0.0</td>\n      <td>7463</td>\n      <td>0</td>\n    </tr>\n    <tr>\n      <td>8</td>\n      <td>9</td>\n      <td>CI</td>\n      <td>0</td>\n      <td>NaN</td>\n      <td>1</td>\n      <td>Soft Tissue</td>\n      <td>No</td>\n      <td>2067</td>\n      <td>0</td>\n      <td>0</td>\n      <td>NaN</td>\n      <td>0.0</td>\n      <td>2067</td>\n      <td>0</td>\n    </tr>\n  </tbody>\n</table>\n</div>",
      "text/plain": "   ID Insurance Type   Income of Policy Holder Marital Status  Num Claimants  \\\n0   1              CI                        0            NaN              2   \n1   2              CI                        0            NaN              2   \n2   3              CI                    54613        Married              1   \n3   4              CI                        0            NaN              3   \n4   5              CI                        0            NaN              4   \n5   6              CI                        0            NaN              1   \n6   7              CI                    52567         Single              3   \n7   8              CI                        0            NaN              2   \n8   9              CI                        0            NaN              1   \n\n   Injury Type Overnight Hospital Stay  Claim Amount  Total Claimed  \\\n0  Soft Tissue                      No          1625           3250   \n1         Back                     Yes         15028          60112   \n2  Broken Limb                      No        -99999              0   \n3      Serious                     Yes        270200              0   \n4  Soft Tissue                      No          8869              0   \n5  Broken Limb                     Yes         17480              0   \n6  Broken Limb                      No          3017          18102   \n7         Back                     Yes          7463              0   \n8  Soft Tissue                      No          2067              0   \n\n   Num Claims  Num Soft Tissue  % Soft Tissue  Claim Amount Received  \\\n0           2              2.0            1.0                      0   \n1           1              0.0            0.0                  15028   \n2           0              0.0            0.0                    572   \n3           0              0.0            0.0                 270200   \n4           0              0.0            0.0                      0   \n5           0              0.0            0.0                  17480   \n6           2              1.0            0.5                      0   \n7           0              0.0            0.0                   7463   \n8           0              NaN            0.0                   2067   \n\n   Fraud Flag  \n0           1  \n1           0  \n2           0  \n3           0  \n4           1  \n5           0  \n6           1  \n7           0  \n8           0  "
     },
     "execution_count": 17,
     "metadata": {},
     "output_type": "execute_result"
    }
   ],
   "source": [
    "#returns 8 rows of the data frame\n",
    "df.loc[0:8]"
   ]
  },
  {
   "cell_type": "code",
   "execution_count": 24,
   "metadata": {},
   "outputs": [
    {
     "data": {
      "text/html": "<div>\n<style scoped>\n    .dataframe tbody tr th:only-of-type {\n        vertical-align: middle;\n    }\n\n    .dataframe tbody tr th {\n        vertical-align: top;\n    }\n\n    .dataframe thead th {\n        text-align: right;\n    }\n</style>\n<table border=\"1\" class=\"dataframe\">\n  <thead>\n    <tr style=\"text-align: right;\">\n      <th></th>\n      <th>Injury Type</th>\n      <th>Fraud Flag</th>\n    </tr>\n  </thead>\n  <tbody>\n    <tr>\n      <td>0</td>\n      <td>Soft Tissue</td>\n      <td>1</td>\n    </tr>\n    <tr>\n      <td>1</td>\n      <td>Back</td>\n      <td>0</td>\n    </tr>\n    <tr>\n      <td>2</td>\n      <td>Broken Limb</td>\n      <td>0</td>\n    </tr>\n    <tr>\n      <td>3</td>\n      <td>Serious</td>\n      <td>0</td>\n    </tr>\n    <tr>\n      <td>4</td>\n      <td>Soft Tissue</td>\n      <td>1</td>\n    </tr>\n    <tr>\n      <td>5</td>\n      <td>Broken Limb</td>\n      <td>0</td>\n    </tr>\n  </tbody>\n</table>\n</div>",
      "text/plain": "   Injury Type  Fraud Flag\n0  Soft Tissue           1\n1         Back           0\n2  Broken Limb           0\n3      Serious           0\n4  Soft Tissue           1\n5  Broken Limb           0"
     },
     "execution_count": 24,
     "metadata": {},
     "output_type": "execute_result"
    }
   ],
   "source": [
    "#return 5 lines of columns 'Injury Type' and 'Fraud Flad'\n",
    "df.loc[0:5,['Injury Type' , 'Fraud Flag']]"
   ]
  },
  {
   "cell_type": "code",
   "execution_count": 28,
   "metadata": {},
   "outputs": [
    {
     "data": {
      "text/plain": "ID                                   1\nInsurance Type                      CI\nIncome of Policy Holder              0\nMarital Status                     NaN\nNum Claimants                        2\nInjury Type                Soft Tissue\nOvernight Hospital Stay             No\nClaim Amount                      1625\nTotal Claimed                     3250\nNum Claims                           2\nNum Soft Tissue                      2\n% Soft Tissue                        1\nClaim Amount Received                0\nFraud Flag                           1\nName: 0, dtype: object"
     },
     "execution_count": 28,
     "metadata": {},
     "output_type": "execute_result"
    }
   ],
   "source": [
    "#info at row 0\n",
    "df.iloc[0]"
   ]
  },
  {
   "cell_type": "code",
   "execution_count": 30,
   "metadata": {},
   "outputs": [
    {
     "data": {
      "text/plain": "2"
     },
     "execution_count": 30,
     "metadata": {},
     "output_type": "execute_result"
    }
   ],
   "source": [
    "#info at row 0 and column 'Num Claims'\n",
    "df.iloc[0]['Num Claims']"
   ]
  },
  {
   "cell_type": "code",
   "execution_count": 32,
   "metadata": {},
   "outputs": [
    {
     "data": {
      "text/plain": "0    2\n1    1\n2    0\n3    0\n4    0\n5    0\n6    2\n7    0\n8    0\n9    0\nName: Num Claims, dtype: int64"
     },
     "execution_count": 32,
     "metadata": {},
     "output_type": "execute_result"
    }
   ],
   "source": [
    "#info for row 1-10 and column 'Num Claims'\n",
    "df.iloc[0:10]['Num Claims']"
   ]
  },
  {
   "cell_type": "code",
   "execution_count": 38,
   "metadata": {},
   "outputs": [
    {
     "data": {
      "text/plain": "1"
     },
     "execution_count": 38,
     "metadata": {},
     "output_type": "execute_result"
    }
   ],
   "source": [
    "#this is only returns one value as an int\n",
    "df.at[0, 'Num Claims']"
   ]
  },
  {
   "cell_type": "code",
   "execution_count": 41,
   "metadata": {},
   "outputs": [
    {
     "data": {
      "text/plain": "0      False\n1      False\n2       True\n3       True\n4       True\n       ...  \n495     True\n496     True\n497     True\n498     True\n499     True\nName: Num Claims, Length: 500, dtype: bool"
     },
     "execution_count": 41,
     "metadata": {},
     "output_type": "execute_result"
    }
   ],
   "source": [
    "#returns if the donlims at 'Num Claims' is equal to '0'\n",
    "df['Num Claims'] == 0"
   ]
  },
  {
   "cell_type": "code",
   "execution_count": 45,
   "metadata": {},
   "outputs": [
    {
     "data": {
      "text/html": "<div>\n<style scoped>\n    .dataframe tbody tr th:only-of-type {\n        vertical-align: middle;\n    }\n\n    .dataframe tbody tr th {\n        vertical-align: top;\n    }\n\n    .dataframe thead th {\n        text-align: right;\n    }\n</style>\n<table border=\"1\" class=\"dataframe\">\n  <thead>\n    <tr style=\"text-align: right;\">\n      <th></th>\n      <th>ID</th>\n      <th>Insurance Type</th>\n      <th>Income of Policy Holder</th>\n      <th>Marital Status</th>\n      <th>Num Claimants</th>\n      <th>Injury Type</th>\n      <th>Overnight Hospital Stay</th>\n      <th>Claim Amount</th>\n      <th>Total Claimed</th>\n      <th>Num Claims</th>\n      <th>Num Soft Tissue</th>\n      <th>% Soft Tissue</th>\n      <th>Claim Amount Received</th>\n      <th>Fraud Flag</th>\n    </tr>\n  </thead>\n  <tbody>\n    <tr>\n      <td>2</td>\n      <td>3</td>\n      <td>CI</td>\n      <td>54613</td>\n      <td>Married</td>\n      <td>1</td>\n      <td>Broken Limb</td>\n      <td>No</td>\n      <td>-99999</td>\n      <td>0</td>\n      <td>0</td>\n      <td>0.0</td>\n      <td>0.0</td>\n      <td>572</td>\n      <td>0</td>\n    </tr>\n    <tr>\n      <td>3</td>\n      <td>4</td>\n      <td>CI</td>\n      <td>0</td>\n      <td>NaN</td>\n      <td>3</td>\n      <td>Serious</td>\n      <td>Yes</td>\n      <td>270200</td>\n      <td>0</td>\n      <td>0</td>\n      <td>0.0</td>\n      <td>0.0</td>\n      <td>270200</td>\n      <td>0</td>\n    </tr>\n    <tr>\n      <td>4</td>\n      <td>5</td>\n      <td>CI</td>\n      <td>0</td>\n      <td>NaN</td>\n      <td>4</td>\n      <td>Soft Tissue</td>\n      <td>No</td>\n      <td>8869</td>\n      <td>0</td>\n      <td>0</td>\n      <td>0.0</td>\n      <td>0.0</td>\n      <td>0</td>\n      <td>1</td>\n    </tr>\n    <tr>\n      <td>5</td>\n      <td>6</td>\n      <td>CI</td>\n      <td>0</td>\n      <td>NaN</td>\n      <td>1</td>\n      <td>Broken Limb</td>\n      <td>Yes</td>\n      <td>17480</td>\n      <td>0</td>\n      <td>0</td>\n      <td>0.0</td>\n      <td>0.0</td>\n      <td>17480</td>\n      <td>0</td>\n    </tr>\n    <tr>\n      <td>7</td>\n      <td>8</td>\n      <td>CI</td>\n      <td>0</td>\n      <td>NaN</td>\n      <td>2</td>\n      <td>Back</td>\n      <td>Yes</td>\n      <td>7463</td>\n      <td>0</td>\n      <td>0</td>\n      <td>0.0</td>\n      <td>0.0</td>\n      <td>7463</td>\n      <td>0</td>\n    </tr>\n    <tr>\n      <td>...</td>\n      <td>...</td>\n      <td>...</td>\n      <td>...</td>\n      <td>...</td>\n      <td>...</td>\n      <td>...</td>\n      <td>...</td>\n      <td>...</td>\n      <td>...</td>\n      <td>...</td>\n      <td>...</td>\n      <td>...</td>\n      <td>...</td>\n      <td>...</td>\n    </tr>\n    <tr>\n      <td>495</td>\n      <td>496</td>\n      <td>CI</td>\n      <td>0</td>\n      <td>NaN</td>\n      <td>1</td>\n      <td>Soft Tissue</td>\n      <td>No</td>\n      <td>2118</td>\n      <td>0</td>\n      <td>0</td>\n      <td>0.0</td>\n      <td>0.0</td>\n      <td>0</td>\n      <td>1</td>\n    </tr>\n    <tr>\n      <td>496</td>\n      <td>497</td>\n      <td>CI</td>\n      <td>29280</td>\n      <td>Married</td>\n      <td>4</td>\n      <td>Broken Limb</td>\n      <td>Yes</td>\n      <td>3199</td>\n      <td>0</td>\n      <td>0</td>\n      <td>NaN</td>\n      <td>0.0</td>\n      <td>0</td>\n      <td>1</td>\n    </tr>\n    <tr>\n      <td>497</td>\n      <td>498</td>\n      <td>CI</td>\n      <td>0</td>\n      <td>NaN</td>\n      <td>1</td>\n      <td>Broken Limb</td>\n      <td>Yes</td>\n      <td>32469</td>\n      <td>0</td>\n      <td>0</td>\n      <td>0.0</td>\n      <td>0.0</td>\n      <td>16763</td>\n      <td>0</td>\n    </tr>\n    <tr>\n      <td>498</td>\n      <td>499</td>\n      <td>CI</td>\n      <td>46683</td>\n      <td>Married</td>\n      <td>1</td>\n      <td>Broken Limb</td>\n      <td>No</td>\n      <td>179448</td>\n      <td>0</td>\n      <td>0</td>\n      <td>0.0</td>\n      <td>0.0</td>\n      <td>179448</td>\n      <td>0</td>\n    </tr>\n    <tr>\n      <td>499</td>\n      <td>500</td>\n      <td>CI</td>\n      <td>0</td>\n      <td>NaN</td>\n      <td>1</td>\n      <td>Broken Limb</td>\n      <td>No</td>\n      <td>8259</td>\n      <td>0</td>\n      <td>0</td>\n      <td>0.0</td>\n      <td>0.0</td>\n      <td>0</td>\n      <td>1</td>\n    </tr>\n  </tbody>\n</table>\n<p>265 rows × 14 columns</p>\n</div>",
      "text/plain": "      ID Insurance Type   Income of Policy Holder Marital Status  \\\n2      3              CI                    54613        Married   \n3      4              CI                        0            NaN   \n4      5              CI                        0            NaN   \n5      6              CI                        0            NaN   \n7      8              CI                        0            NaN   \n..   ...             ...                      ...            ...   \n495  496              CI                        0            NaN   \n496  497              CI                    29280        Married   \n497  498              CI                        0            NaN   \n498  499              CI                    46683        Married   \n499  500              CI                        0            NaN   \n\n     Num Claimants  Injury Type Overnight Hospital Stay  Claim Amount  \\\n2                1  Broken Limb                      No        -99999   \n3                3      Serious                     Yes        270200   \n4                4  Soft Tissue                      No          8869   \n5                1  Broken Limb                     Yes         17480   \n7                2         Back                     Yes          7463   \n..             ...          ...                     ...           ...   \n495              1  Soft Tissue                      No          2118   \n496              4  Broken Limb                     Yes          3199   \n497              1  Broken Limb                     Yes         32469   \n498              1  Broken Limb                      No        179448   \n499              1  Broken Limb                      No          8259   \n\n     Total Claimed  Num Claims  Num Soft Tissue  % Soft Tissue  \\\n2                0           0              0.0            0.0   \n3                0           0              0.0            0.0   \n4                0           0              0.0            0.0   \n5                0           0              0.0            0.0   \n7                0           0              0.0            0.0   \n..             ...         ...              ...            ...   \n495              0           0              0.0            0.0   \n496              0           0              NaN            0.0   \n497              0           0              0.0            0.0   \n498              0           0              0.0            0.0   \n499              0           0              0.0            0.0   \n\n     Claim Amount Received  Fraud Flag  \n2                      572           0  \n3                   270200           0  \n4                        0           1  \n5                    17480           0  \n7                     7463           0  \n..                     ...         ...  \n495                      0           1  \n496                      0           1  \n497                  16763           0  \n498                 179448           0  \n499                      0           1  \n\n[265 rows x 14 columns]"
     },
     "execution_count": 45,
     "metadata": {},
     "output_type": "execute_result"
    }
   ],
   "source": [
    "#returns the rows with 'Num Claims' equal to '0'\n",
    "df.loc[ df['Num Claims'] == 0 ]"
   ]
  },
  {
   "cell_type": "code",
   "execution_count": 49,
   "metadata": {},
   "outputs": [
    {
     "name": "stdout",
     "output_type": "stream",
     "text": "             0\nNum Soft Tissue                      0\n% Soft Tissue                        0\nClaim Amount Received            45273\nFraud Flag                           0\nName: 463, dtype: object\n464 ID                             465\nInsurance Type                  CI\nIncome of Policy Holder      49491\nMarital Status             Married\nNum Claimants                    1\nInjury Type                Serious\nOvernight Hospital Stay        Yes\nClaim Amount                 27326\nTotal Claimed                42726\nNum Claims                       1\nNum Soft Tissue                  0\n% Soft Tissue                    0\nClaim Amount Received        27326\nFraud Flag                       0\nName: 464, dtype: object\n465 ID                                 466\nInsurance Type                      CI\nIncome of Policy Holder              0\nMarital Status                     NaN\nNum Claimants                        4\nInjury Type                Soft Tissue\nOvernight Hospital Stay            Yes\nClaim Amount                     11886\nTotal Claimed                        0\nNum Claims                           0\nNum Soft Tissue                      0\n% Soft Tissue                        0\nClaim Amount Received                0\nFraud Flag                           1\nName: 465, dtype: object\n466 ID                                 467\nInsurance Type                      CI\nIncome of Policy Holder              0\nMarital Status                     NaN\nNum Claimants                        2\nInjury Type                Soft Tissue\nOvernight Hospital Stay             No\nClaim Amount                      5939\nTotal Claimed                     3938\nNum Claims                           1\nNum Soft Tissue                      0\n% Soft Tissue                        0\nClaim Amount Received             5939\nFraud Flag                           0\nName: 466, dtype: object\n467 ID                                 468\nInsurance Type                      CI\nIncome of Policy Holder              0\nMarital Status                     NaN\nNum Claimants                        3\nInjury Type                Broken Limb\nOvernight Hospital Stay             No\nClaim Amount                      2415\nTotal Claimed                    18854\nNum Claims                           1\nNum Soft Tissue                      0\n% Soft Tissue                        0\nClaim Amount Received             2415\nFraud Flag                           0\nName: 467, dtype: object\n468 ID                                 469\nInsurance Type                      CI\nIncome of Policy Holder              0\nMarital Status                     NaN\nNum Claimants                        2\nInjury Type                Soft Tissue\nOvernight Hospital Stay             No\nClaim Amount                      3287\nTotal Claimed                     4335\nNum Claims                           1\nNum Soft Tissue                      0\n% Soft Tissue                        0\nClaim Amount Received             3287\nFraud Flag                           0\nName: 468, dtype: object\n469 ID                              470\nInsurance Type                   CI\nIncome of Policy Holder       26165\nMarital Status              Married\nNum Claimants                     1\nInjury Type                    Back\nOvernight Hospital Stay          No\nClaim Amount                   5679\nTotal Claimed                 42832\nNum Claims                        3\nNum Soft Tissue                   1\n% Soft Tissue              0.333333\nClaim Amount Received          5679\nFraud Flag                        0\nName: 469, dtype: object\n470 ID                                 471\nInsurance Type                      CI\nIncome of Policy Holder              0\nMarital Status                     NaN\nNum Claimants                        1\nInjury Type                Soft Tissue\nOvernight Hospital Stay             No\nClaim Amount                     83756\nTotal Claimed                     1693\nNum Claims                           1\nNum Soft Tissue                      0\n% Soft Tissue                        0\nClaim Amount Received            83756\nFraud Flag                           0\nName: 470, dtype: object\n471 ID                          472\nInsurance Type               CI\nIncome of Policy Holder       0\nMarital Status              NaN\nNum Claimants                 2\nInjury Type                Back\nOvernight Hospital Stay      No\nClaim Amount               6487\nTotal Claimed                 0\nNum Claims                    0\nNum Soft Tissue               0\n% Soft Tissue                 0\nClaim Amount Received      5359\nFraud Flag                    0\nName: 471, dtype: object\n472 ID                                 473\nInsurance Type                      CI\nIncome of Policy Holder          51570\nMarital Status                  Single\nNum Claimants                        1\nInjury Type                Broken Limb\nOvernight Hospital Stay             No\nClaim Amount                     28953\nTotal Claimed                        0\nNum Claims                           0\nNum Soft Tissue                      0\n% Soft Tissue                        0\nClaim Amount Received            28953\nFraud Flag                           0\nName: 472, dtype: object\n473 ID                                 474\nInsurance Type                      CI\nIncome of Policy Holder              0\nMarital Status                     NaN\nNum Claimants                        1\nInjury Type                Soft Tissue\nOvernight Hospital Stay             No\nClaim Amount                      7330\nTotal Claimed                        0\nNum Claims                           0\nNum Soft Tissue                      0\n% Soft Tissue                        0\nClaim Amount Received            12917\nFraud Flag                           0\nName: 473, dtype: object\n474 ID                             475\nInsurance Type                  CI\nIncome of Policy Holder      52665\nMarital Status             Married\nNum Claimants                    2\nInjury Type                Serious\nOvernight Hospital Stay        Yes\nClaim Amount                  3160\nTotal Claimed                    0\nNum Claims                       0\nNum Soft Tissue                  0\n% Soft Tissue                    0\nClaim Amount Received         3160\nFraud Flag                       0\nName: 474, dtype: object\n475 ID                                 476\nInsurance Type                      CI\nIncome of Policy Holder          43162\nMarital Status                 Married\nNum Claimants                        1\nInjury Type                Soft Tissue\nOvernight Hospital Stay            Yes\nClaim Amount                      6473\nTotal Claimed                        0\nNum Claims                           0\nNum Soft Tissue                      0\n% Soft Tissue                        0\nClaim Amount Received                0\nFraud Flag                           1\nName: 475, dtype: object\n476 ID                          477\nInsurance Type               CI\nIncome of Policy Holder       0\nMarital Status              NaN\nNum Claimants                 1\nInjury Type                Back\nOvernight Hospital Stay     Yes\nClaim Amount               9722\nTotal Claimed              6959\nNum Claims                    4\nNum Soft Tissue               0\n% Soft Tissue                 0\nClaim Amount Received      9722\nFraud Flag                    0\nName: 476, dtype: object\n477 ID                          478\nInsurance Type               CI\nIncome of Policy Holder       0\nMarital Status              NaN\nNum Claimants                 2\nInjury Type                Back\nOvernight Hospital Stay     Yes\nClaim Amount               5658\nTotal Claimed                 0\nNum Claims                    0\nNum Soft Tissue               0\n% Soft Tissue                 0\nClaim Amount Received      5658\nFraud Flag                    0\nName: 477, dtype: object\n478 ID                                 479\nInsurance Type                      CI\nIncome of Policy Holder          34820\nMarital Status                 Married\nNum Claimants                        2\nInjury Type                Broken Limb\nOvernight Hospital Stay             No\nClaim Amount                      4435\nTotal Claimed                        0\nNum Claims                           0\nNum Soft Tissue                      0\n% Soft Tissue                        0\nClaim Amount Received                0\nFraud Flag                           1\nName: 478, dtype: object\n479 ID                                 480\nInsurance Type                      CI\nIncome of Policy Holder              0\nMarital Status                     NaN\nNum Claimants                        1\nInjury Type                Broken Limb\nOvernight Hospital Stay             No\nClaim Amount                     33739\nTotal Claimed                    10608\nNum Claims                           1\nNum Soft Tissue                    NaN\n% Soft Tissue                        0\nClaim Amount Received            33739\nFraud Flag                           0\nName: 479, dtype: object\n480 ID                                 481\nInsurance Type                      CI\nIncome of Policy Holder              0\nMarital Status                     NaN\nNum Claimants                        2\nInjury Type                Soft Tissue\nOvernight Hospital Stay             No\nClaim Amount                     38699\nTotal Claimed                        0\nNum Claims                           0\nNum Soft Tissue                      0\n% Soft Tissue                        0\nClaim Amount Received                0\nFraud Flag                           1\nName: 480, dtype: object\n481 ID                                 482\nInsurance Type                      CI\nIncome of Policy Holder              0\nMarital Status                     NaN\nNum Claimants                        1\nInjury Type                Broken Limb\nOvernight Hospital Stay             No\nClaim Amount                     15736\nTotal Claimed                        0\nNum Claims                           0\nNum Soft Tissue                      0\n% Soft Tissue                        0\nClaim Amount Received            15736\nFraud Flag                           0\nName: 481, dtype: object\n482 ID                            483\nInsurance Type                 CI\nIncome of Policy Holder     41333\nMarital Status             Single\nNum Claimants                   1\nInjury Type                  Back\nOvernight Hospital Stay        No\nClaim Amount                 9899\nTotal Claimed                   0\nNum Claims                      0\nNum Soft Tissue                 0\n% Soft Tissue                   0\nClaim Amount Received       10646\nFraud Flag                      0\nName: 482, dtype: object\n483 ID                             484\nInsurance Type                  CI\nIncome of Policy Holder          0\nMarital Status                 NaN\nNum Claimants                    2\nInjury Type                Serious\nOvernight Hospital Stay        Yes\nClaim Amount                  6110\nTotal Claimed                    0\nNum Claims                       0\nNum Soft Tissue                  0\n% Soft Tissue                    0\nClaim Amount Received            0\nFraud Flag                       1\nName: 483, dtype: object\n484 ID                                 485\nInsurance Type                      CI\nIncome of Policy Holder              0\nMarital Status                     NaN\nNum Claimants                        3\nInjury Type                Broken Limb\nOvernight Hospital Stay             No\nClaim Amount                      2698\nTotal Claimed                        0\nNum Claims                           0\nNum Soft Tissue                      0\n% Soft Tissue                        0\nClaim Amount Received                0\nFraud Flag                           1\nName: 484, dtype: object\n485 ID                                 486\nInsurance Type                      CI\nIncome of Policy Holder              0\nMarital Status                     NaN\nNum Claimants                        2\nInjury Type                Soft Tissue\nOvernight Hospital Stay             No\nClaim Amount                      2334\nTotal Claimed                     6006\nNum Claims                           1\nNum Soft Tissue                      0\n% Soft Tissue                        0\nClaim Amount Received             1353\nFraud Flag                           0\nName: 485, dtype: object\n486 ID                                 487\nInsurance Type                      CI\nIncome of Policy Holder              0\nMarital Status                     NaN\nNum Claimants                        2\nInjury Type                Broken Limb\nOvernight Hospital Stay             No\nClaim Amount                      2791\nTotal Claimed                        0\nNum Claims                           0\nNum Soft Tissue                      0\n% Soft Tissue                        0\nClaim Amount Received             2791\nFraud Flag                           0\nName: 486, dtype: object\n487 ID                          488\nInsurance Type               CI\nIncome of Policy Holder       0\nMarital Status              NaN\nNum Claimants                 1\nInjury Type                Back\nOvernight Hospital Stay      No\nClaim Amount                467\nTotal Claimed                 0\nNum Claims                    0\nNum Soft Tissue               0\n% Soft Tissue                 0\nClaim Amount Received       467\nFraud Flag                    0\nName: 487, dtype: object\n488 ID                             489\nInsurance Type                  CI\nIncome of Policy Holder      41381\nMarital Status             Married\nNum Claimants                    1\nInjury Type                   Back\nOvernight Hospital Stay         No\nClaim Amount                  5391\nTotal Claimed                    0\nNum Claims                       0\nNum Soft Tissue                  0\n% Soft Tissue                    0\nClaim Amount Received         5391\nFraud Flag                       0\nName: 488, dtype: object\n489 ID                                 490\nInsurance Type                      CI\nIncome of Policy Holder          34756\nMarital Status                Divorced\nNum Claimants                        1\nInjury Type                Soft Tissue\nOvernight Hospital Stay             No\nClaim Amount                      2122\nTotal Claimed                        0\nNum Claims                           0\nNum Soft Tissue                      0\n% Soft Tissue                        0\nClaim Amount Received                0\nFraud Flag                           1\nName: 489, dtype: object\n490 ID                            491\nInsurance Type                 CI\nIncome of Policy Holder     40204\nMarital Status             Single\nNum Claimants                   1\nInjury Type                  Back\nOvernight Hospital Stay        No\nClaim Amount                75748\nTotal Claimed               11116\nNum Claims                      1\nNum Soft Tissue                 0\n% Soft Tissue                   0\nClaim Amount Received           0\nFraud Flag                      1\nName: 490, dtype: object\n491 ID                                 492\nInsurance Type                      CI\nIncome of Policy Holder              0\nMarital Status                     NaN\nNum Claimants                        1\nInjury Type                Broken Limb\nOvernight Hospital Stay             No\nClaim Amount                      6172\nTotal Claimed                     6041\nNum Claims                           1\nNum Soft Tissue                      0\n% Soft Tissue                        0\nClaim Amount Received             6172\nFraud Flag                           0\nName: 491, dtype: object\n492 ID                                 493\nInsurance Type                      CI\nIncome of Policy Holder              0\nMarital Status                     NaN\nNum Claimants                        1\nInjury Type                Soft Tissue\nOvernight Hospital Stay            Yes\nClaim Amount                      2569\nTotal Claimed                    20055\nNum Claims                           1\nNum Soft Tissue                    NaN\n% Soft Tissue                        0\nClaim Amount Received             2569\nFraud Flag                           0\nName: 492, dtype: object\n493 ID                                 494\nInsurance Type                      CI\nIncome of Policy Holder          31951\nMarital Status                 Married\nNum Claimants                        1\nInjury Type                Broken Limb\nOvernight Hospital Stay             No\nClaim Amount                      5227\nTotal Claimed                    22095\nNum Claims                           1\nNum Soft Tissue                      0\n% Soft Tissue                        0\nClaim Amount Received             5227\nFraud Flag                           0\nName: 493, dtype: object\n494 ID                          495\nInsurance Type               CI\nIncome of Policy Holder       0\nMarital Status              NaN\nNum Claimants                 2\nInjury Type                Back\nOvernight Hospital Stay      No\nClaim Amount               3813\nTotal Claimed              9882\nNum Claims                    3\nNum Soft Tissue               0\n% Soft Tissue                 0\nClaim Amount Received         0\nFraud Flag                    1\nName: 494, dtype: object\n495 ID                                 496\nInsurance Type                      CI\nIncome of Policy Holder              0\nMarital Status                     NaN\nNum Claimants                        1\nInjury Type                Soft Tissue\nOvernight Hospital Stay             No\nClaim Amount                      2118\nTotal Claimed                        0\nNum Claims                           0\nNum Soft Tissue                      0\n% Soft Tissue                        0\nClaim Amount Received                0\nFraud Flag                           1\nName: 495, dtype: object\n496 ID                                 497\nInsurance Type                      CI\nIncome of Policy Holder          29280\nMarital Status                 Married\nNum Claimants                        4\nInjury Type                Broken Limb\nOvernight Hospital Stay            Yes\nClaim Amount                      3199\nTotal Claimed                        0\nNum Claims                           0\nNum Soft Tissue                    NaN\n% Soft Tissue                        0\nClaim Amount Received                0\nFraud Flag                           1\nName: 496, dtype: object\n497 ID                                 498\nInsurance Type                      CI\nIncome of Policy Holder              0\nMarital Status                     NaN\nNum Claimants                        1\nInjury Type                Broken Limb\nOvernight Hospital Stay            Yes\nClaim Amount                     32469\nTotal Claimed                        0\nNum Claims                           0\nNum Soft Tissue                      0\n% Soft Tissue                        0\nClaim Amount Received            16763\nFraud Flag                           0\nName: 497, dtype: object\n498 ID                                 499\nInsurance Type                      CI\nIncome of Policy Holder          46683\nMarital Status                 Married\nNum Claimants                        1\nInjury Type                Broken Limb\nOvernight Hospital Stay             No\nClaim Amount                    179448\nTotal Claimed                        0\nNum Claims                           0\nNum Soft Tissue                      0\n% Soft Tissue                        0\nClaim Amount Received           179448\nFraud Flag                           0\nName: 498, dtype: object\n499 ID                                 500\nInsurance Type                      CI\nIncome of Policy Holder              0\nMarital Status                     NaN\nNum Claimants                        1\nInjury Type                Broken Limb\nOvernight Hospital Stay             No\nClaim Amount                      8259\nTotal Claimed                        0\nNum Claims                           0\nNum Soft Tissue                      0\n% Soft Tissue                        0\nClaim Amount Received                0\nFraud Flag                           1\nName: 499, dtype: object\n"
    }
   ],
   "source": [
    "#iterating throught\n",
    "for index, row in df.iterrows():\n",
    "    print(index, end=' ')\n",
    "    print(row)"
   ]
  },
  {
   "cell_type": "code",
   "execution_count": null,
   "metadata": {},
   "outputs": [],
   "source": []
  }
 ],
 "metadata": {
  "kernelspec": {
   "display_name": "Python 3",
   "language": "python",
   "name": "python3"
  },
  "language_info": {
   "codemirror_mode": {
    "name": "ipython",
    "version": 3
   },
   "file_extension": ".py",
   "mimetype": "text/x-python",
   "name": "python",
   "nbconvert_exporter": "python",
   "pygments_lexer": "ipython3",
   "version": "3.7.4-final"
  }
 },
 "nbformat": 4,
 "nbformat_minor": 4
}